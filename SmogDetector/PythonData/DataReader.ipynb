{
 "cells": [
  {
   "cell_type": "code",
   "execution_count": 1,
   "metadata": {},
   "outputs": [],
   "source": [
    "import pandas as pd\n",
    "import numpy as np"
   ]
  },
  {
   "cell_type": "code",
   "execution_count": 2,
   "metadata": {},
   "outputs": [
    {
     "data": {
      "text/plain": [
       "192"
      ]
     },
     "execution_count": 2,
     "metadata": {},
     "output_type": "execute_result"
    }
   ],
   "source": [
    "api = pd.read_json('http://api.gios.gov.pl/pjp-api/rest/station/findAll')\n",
    "\n",
    "api.to_csv('Data.csv',index=False)\n",
    "\n",
    "dft=pd.read_csv('Data.csv')\n",
    "\n",
    "df=dft[['id', 'stationName', 'gegrLat', 'gegrLon']]\n",
    "\n",
    "v = df['id'].count()\n",
    "\n",
    "tid= pd.Series([],dtype=int)\n",
    "\n",
    "tid=df['id']\n",
    "\n",
    "Type_new = pd.Series([],dtype=str)\n",
    "\n",
    "v"
   ]
  },
  {
   "cell_type": "code",
   "execution_count": 3,
   "metadata": {},
   "outputs": [],
   "source": [
    "def take_polution(id):\n",
    "    return pd.read_json('http://api.gios.gov.pl/pjp-api/rest/aqindex/getIndex/'+str(id) )\n",
    "\n",
    "\n",
    "for x in range(0,v):\n",
    "    t = str(tid[x])\n",
    "    w = take_polution(t)\n",
    "    Type_new[x]=w['stIndexLevel'].indexLevelName \n",
    "\n"
   ]
  },
  {
   "cell_type": "code",
   "execution_count": 4,
   "metadata": {},
   "outputs": [],
   "source": [
    "df.insert(4, \"NameLevel\", Type_new)"
   ]
  },
  {
   "cell_type": "code",
   "execution_count": 6,
   "metadata": {},
   "outputs": [],
   "source": [
    "#Tutaj zmienić scieżkę gdzie bedzie to zapisywane w razie potrzeby \n",
    "df.to_csv('PolutionLevel.csv',index=False)"
   ]
  }
 ],
 "metadata": {
  "kernelspec": {
   "display_name": "Python 3",
   "language": "python",
   "name": "python3"
  },
  "language_info": {
   "codemirror_mode": {
    "name": "ipython",
    "version": 3
   },
   "file_extension": ".py",
   "mimetype": "text/x-python",
   "name": "python",
   "nbconvert_exporter": "python",
   "pygments_lexer": "ipython3",
   "version": "3.7.6"
  }
 },
 "nbformat": 4,
 "nbformat_minor": 4
}
