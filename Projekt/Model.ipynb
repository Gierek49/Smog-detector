{
 "cells": [
  {
   "cell_type": "code",
   "execution_count": null,
   "metadata": {},
   "outputs": [],
   "source": [
    "import pandas as pd\n",
    "import numpy as np\n",
    "import sys\n",
    "\n",
    "from sklearn.neighbors import KNeighborsClassifier\n",
    "#from sklearn.model_selection import cross_val_score\n",
    "\n",
    "%matplotlib inline"
   ]
  },
  {
   "cell_type": "code",
   "execution_count": null,
   "metadata": {},
   "outputs": [],
   "source": [
    "minLat =49\n",
    "maxLat=54.50\n",
    "minLng =14.07\n",
    "maxLng=24.08\n"
   ]
  },
  {
   "cell_type": "code",
   "execution_count": null,
   "metadata": {},
   "outputs": [],
   "source": [
    "#Tutaj zmienić jak coś scieżke do pliku\n",
    "df = pd.read_csv('PolutionLevel.csv')"
   ]
  },
  {
   "cell_type": "code",
   "execution_count": null,
   "metadata": {},
   "outputs": [],
   "source": [
    "X=df[['gegrLat','gegrLon']]\n",
    "\n",
    "y=df['NameLevel'] \n",
    "\n",
    "n=15\n",
    "\n",
    "model= KNeighborsClassifier(n_neighbors=n,weights='distance')\n",
    "model.fit(X,y)\n",
    "\n",
    "lat=np.arange(minLat, maxLat, 0.1)\n",
    "lng= np.arange(minLng,maxLng,0.1)\n",
    "\n",
    "d=np.zeros([1,2],float)"
   ]
  },
  {
   "cell_type": "code",
   "execution_count": null,
   "metadata": {},
   "outputs": [],
   "source": [
    "dataX=float(sys.argv[1])      \n",
    "dataY=float(sys.argv[2])\n",
    "\n",
    "d[0][0]=dataX\n",
    "d[0][1]=dataY\n",
    "\n",
    "print(model.predict(d))        "
   ]
  }
 ],
 "metadata": {
  "kernelspec": {
   "display_name": "Python 3",
   "language": "python",
   "name": "python3"
  },
  "language_info": {
   "codemirror_mode": {
    "name": "ipython",
    "version": 3
   },
   "file_extension": ".py",
   "mimetype": "text/x-python",
   "name": "python",
   "nbconvert_exporter": "python",
   "pygments_lexer": "ipython3",
   "version": "3.7.6"
  }
 },
 "nbformat": 4,
 "nbformat_minor": 4
}
