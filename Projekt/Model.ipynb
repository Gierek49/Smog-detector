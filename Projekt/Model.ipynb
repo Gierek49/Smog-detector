{
 "cells": [
  {
   "cell_type": "code",
   "execution_count": 1,
   "metadata": {},
   "outputs": [],
   "source": [
    "import pandas as pd\n",
    "import numpy as np\n",
    "\n",
    "from sklearn.neighbors import KNeighborsClassifier\n",
    "#from sklearn.model_selection import cross_val_score\n",
    "\n",
    "%matplotlib inline"
   ]
  },
  {
   "cell_type": "code",
   "execution_count": 2,
   "metadata": {},
   "outputs": [],
   "source": [
    "minLat =49\n",
    "maxLat=54.50\n",
    "minLng =14.07\n",
    "maxLng=24.08\n"
   ]
  },
  {
   "cell_type": "code",
   "execution_count": 13,
   "metadata": {},
   "outputs": [
    {
     "data": {
      "text/plain": [
       "190"
      ]
     },
     "execution_count": 13,
     "metadata": {},
     "output_type": "execute_result"
    }
   ],
   "source": [
    "api = pd.read_json('http://api.gios.gov.pl/pjp-api/rest/station/findAll')\n",
    "\n",
    "api.to_csv('Data.csv',index=False)\n",
    "\n",
    "dft=pd.read_csv('Data.csv')\n",
    "\n",
    "df=dft[['id', 'stationName', 'gegrLat', 'gegrLon']]\n",
    "\n",
    "v = df['id'].count()\n",
    "\n",
    "\n",
    "Type_new = pd.Series([],dtype=str)\n",
    "\n",
    "v"
   ]
  },
  {
   "cell_type": "code",
   "execution_count": 4,
   "metadata": {},
   "outputs": [],
   "source": [
    "def take_polution(id):\n",
    "    return pd.read_json('http://api.gios.gov.pl/pjp-api/rest/aqindex/getIndex/'+id )\n",
    "           \n",
    "for x in range(0,v):\n",
    "    t = str(df['id'].iloc[x])\n",
    "    w=take_polution(t)\n",
    "    Type_new[x]=w['stIndexLevel'].indexLevelName \n",
    "\n"
   ]
  },
  {
   "cell_type": "code",
   "execution_count": 5,
   "metadata": {},
   "outputs": [],
   "source": [
    "df.insert(4, \"NameLevel\", Type_new)"
   ]
  },
  {
   "cell_type": "code",
   "execution_count": 15,
   "metadata": {},
   "outputs": [
    {
     "data": {
      "text/plain": [
       "Series([], dtype: int64)"
      ]
     },
     "execution_count": 15,
     "metadata": {},
     "output_type": "execute_result"
    }
   ],
   "source": [
    "Type_new.value_counts()"
   ]
  },
  {
   "cell_type": "code",
   "execution_count": 8,
   "metadata": {},
   "outputs": [
    {
     "data": {
      "text/plain": [
       "KNeighborsClassifier(algorithm='auto', leaf_size=30, metric='minkowski',\n",
       "                     metric_params=None, n_jobs=None, n_neighbors=3, p=2,\n",
       "                     weights='uniform')"
      ]
     },
     "execution_count": 8,
     "metadata": {},
     "output_type": "execute_result"
    }
   ],
   "source": [
    "X=df[['gegrLat','gegrLon']]\n",
    "\n",
    "y=df['NameLevel'] \n",
    "\n",
    "n=3\n",
    "\n",
    "model= KNeighborsClassifier(n_neighbors=n)\n",
    "model.fit(X,y)"
   ]
  },
  {
   "cell_type": "code",
   "execution_count": 12,
   "metadata": {},
   "outputs": [
    {
     "data": {
      "text/plain": [
       "array(['Dobry'], dtype=object)"
      ]
     },
     "execution_count": 12,
     "metadata": {},
     "output_type": "execute_result"
    }
   ],
   "source": [
    "a = np.zeros([1,2], float)\n",
    "a[0][0]=51.0\n",
    "a[0][1]=17.0\n",
    "\n",
    "a\n",
    "model.predict(a)"
   ]
  },
  {
   "cell_type": "code",
   "execution_count": 16,
   "metadata": {},
   "outputs": [
    {
     "data": {
      "text/html": [
       "<div>\n",
       "<style scoped>\n",
       "    .dataframe tbody tr th:only-of-type {\n",
       "        vertical-align: middle;\n",
       "    }\n",
       "\n",
       "    .dataframe tbody tr th {\n",
       "        vertical-align: top;\n",
       "    }\n",
       "\n",
       "    .dataframe thead th {\n",
       "        text-align: right;\n",
       "    }\n",
       "</style>\n",
       "<table border=\"1\" class=\"dataframe\">\n",
       "  <thead>\n",
       "    <tr style=\"text-align: right;\">\n",
       "      <th></th>\n",
       "      <th>id</th>\n",
       "      <th>stationName</th>\n",
       "      <th>gegrLat</th>\n",
       "      <th>gegrLon</th>\n",
       "    </tr>\n",
       "  </thead>\n",
       "  <tbody>\n",
       "    <tr>\n",
       "      <th>0</th>\n",
       "      <td>114</td>\n",
       "      <td>Wrocław - Bartnicza</td>\n",
       "      <td>51.115933</td>\n",
       "      <td>17.141125</td>\n",
       "    </tr>\n",
       "    <tr>\n",
       "      <th>1</th>\n",
       "      <td>117</td>\n",
       "      <td>Wrocław - Korzeniowskiego</td>\n",
       "      <td>51.129378</td>\n",
       "      <td>17.029250</td>\n",
       "    </tr>\n",
       "    <tr>\n",
       "      <th>2</th>\n",
       "      <td>129</td>\n",
       "      <td>Wrocław - Wiśniowa</td>\n",
       "      <td>51.086225</td>\n",
       "      <td>17.012689</td>\n",
       "    </tr>\n",
       "    <tr>\n",
       "      <th>3</th>\n",
       "      <td>52</td>\n",
       "      <td>Legnica - Rzeczypospolitej</td>\n",
       "      <td>51.204503</td>\n",
       "      <td>16.180513</td>\n",
       "    </tr>\n",
       "    <tr>\n",
       "      <th>4</th>\n",
       "      <td>109</td>\n",
       "      <td>Wałbrzych - Wysockiego</td>\n",
       "      <td>50.768729</td>\n",
       "      <td>16.269677</td>\n",
       "    </tr>\n",
       "    <tr>\n",
       "      <th>...</th>\n",
       "      <td>...</td>\n",
       "      <td>...</td>\n",
       "      <td>...</td>\n",
       "      <td>...</td>\n",
       "    </tr>\n",
       "    <tr>\n",
       "      <th>185</th>\n",
       "      <td>142</td>\n",
       "      <td>Grudziądz Airpointer</td>\n",
       "      <td>53.493550</td>\n",
       "      <td>18.762139</td>\n",
       "    </tr>\n",
       "    <tr>\n",
       "      <th>186</th>\n",
       "      <td>143</td>\n",
       "      <td>Inowrocław Airpointer</td>\n",
       "      <td>52.793122</td>\n",
       "      <td>18.241044</td>\n",
       "    </tr>\n",
       "    <tr>\n",
       "      <th>187</th>\n",
       "      <td>164</td>\n",
       "      <td>Ciechocinek</td>\n",
       "      <td>52.888422</td>\n",
       "      <td>18.780908</td>\n",
       "    </tr>\n",
       "    <tr>\n",
       "      <th>188</th>\n",
       "      <td>190</td>\n",
       "      <td>Koniczynka</td>\n",
       "      <td>53.080647</td>\n",
       "      <td>18.684258</td>\n",
       "    </tr>\n",
       "    <tr>\n",
       "      <th>189</th>\n",
       "      <td>232</td>\n",
       "      <td>Bory Tucholskie</td>\n",
       "      <td>53.662117</td>\n",
       "      <td>17.934017</td>\n",
       "    </tr>\n",
       "  </tbody>\n",
       "</table>\n",
       "<p>190 rows × 4 columns</p>\n",
       "</div>"
      ],
      "text/plain": [
       "      id                 stationName    gegrLat    gegrLon\n",
       "0    114         Wrocław - Bartnicza  51.115933  17.141125\n",
       "1    117   Wrocław - Korzeniowskiego  51.129378  17.029250\n",
       "2    129          Wrocław - Wiśniowa  51.086225  17.012689\n",
       "3     52  Legnica - Rzeczypospolitej  51.204503  16.180513\n",
       "4    109      Wałbrzych - Wysockiego  50.768729  16.269677\n",
       "..   ...                         ...        ...        ...\n",
       "185  142        Grudziądz Airpointer  53.493550  18.762139\n",
       "186  143       Inowrocław Airpointer  52.793122  18.241044\n",
       "187  164                 Ciechocinek  52.888422  18.780908\n",
       "188  190                  Koniczynka  53.080647  18.684258\n",
       "189  232             Bory Tucholskie  53.662117  17.934017\n",
       "\n",
       "[190 rows x 4 columns]"
      ]
     },
     "execution_count": 16,
     "metadata": {},
     "output_type": "execute_result"
    }
   ],
   "source": [
    "df"
   ]
  },
  {
   "cell_type": "code",
   "execution_count": null,
   "metadata": {},
   "outputs": [],
   "source": []
  }
 ],
 "metadata": {
  "kernelspec": {
   "display_name": "Python 3",
   "language": "python",
   "name": "python3"
  },
  "language_info": {
   "codemirror_mode": {
    "name": "ipython",
    "version": 3
   },
   "file_extension": ".py",
   "mimetype": "text/x-python",
   "name": "python",
   "nbconvert_exporter": "python",
   "pygments_lexer": "ipython3",
   "version": "3.7.6"
  }
 },
 "nbformat": 4,
 "nbformat_minor": 4
}
